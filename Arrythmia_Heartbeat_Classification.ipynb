{
  "cells": [
    {
      "cell_type": "markdown",
      "source": [
        "#**EE P 596: Advanced Introduction to Machine Learning**\n",
        "#**Project 2 Arrhythmia heartbeat classification Win23**\n",
        "### Predict the heartbeat type based on the input heartbeat. \n",
        "### Due February 26th, 2023, by 11:59 PM <br> <br> \n",
        "###Team Kaggle Name: Rhythm Detectives <br>  \n",
        "###Students: Naif Ganadily & Sarah Selim\n",
        "####Instructor - Prof. Karthik Mohan \n",
        "####TA - Ayush Singh\n",
        "####Grader - Fatwir SM"
      ],
      "metadata": {
        "id": "cOy-NzErdbZX"
      }
    },
    {
      "cell_type": "markdown",
      "source": [
        "# Project 2 Overview\n",
        "\n",
        "#### Arrhythmia or \"irregular heart beats\" is a very common heart rate problem and often goes un-diagnosed. This mini-project looks into super fine-grained data on heart beats and characteristics of normal and abnormal heartbeats. Having ML algorithms that can automate detection of possible Arrythmia is super impactful in helping doctors and hospitals be more efficient and effective in diagnosis and treatment of heart rate issues and also avert medical emergencies, prevent deaths."
      ],
      "metadata": {
        "id": "Esew19HiePQq"
      }
    },
    {
      "cell_type": "markdown",
      "source": [
        "# Submission Guidelines\n",
        "*   You get to work in teams of 2 for the Kaggle and modeling piece!! Please make sure each person of the team gets to work on all aspects of the mini-project and mention at the top of your report the contributions from each person.\n",
        "*   The submission is in 2 parts.\n",
        "*   **Code:** Please submit a Jupyter/IPython notebook file, report and Kaggle predictions as part of your submission. You can start with the template notebook provided and add in your solutions to it.\n",
        "*   **Report:** The report should be in a pdf format and have plots, correlation matrices and tables added in as mentioned in the **Heart Rate Delivariables below**. Feel free to use either LaTeX or word for creating it. Include answers to conceptual questions, and your insights as well. Ideally you should NOT use comments in ipynd to answer any conceptual question.\n",
        "*   Kaggle Contest: There is a Kaggle competition as well, where you submit predictions on a \"held out\" data set."
      ],
      "metadata": {
        "id": "zuklyj4xeWGM"
      }
    },
    {
      "cell_type": "markdown",
      "source": [
        "# Dataset Description \n",
        "#### We have the following classes of heartbeats present in the dataset:\n",
        "*   N: Normal beat\n",
        "*   L: Left bundle branch block beat\n",
        "*   R: Right bundle branch block beat\n",
        "*   A: Atrial premature beat\n",
        "*   V: Premature ventricular contraction\n",
        "*   U: All other types of beats should be classified as this (this would require relabelling of the data)\n",
        "<br> <br> \n",
        "\n",
        "The dataset contains 44 half-hour excerpts of two-channel ambulatory ECG recordings, obtained from 43 subjects studied by the BIH Arrhythmia Laboratory between 1975 and 1979. The recordings were digitized at 360 samples per second per channel, and were labelled manually by cardiologists. You can only use MLII information to train the model for all the part except the last one, this is because we have maximum availablity of this feature. The txt file contains time, sample number and type of the heartbeat."
      ],
      "metadata": {
        "id": "UJ5vVreZehcN"
      }
    },
    {
      "cell_type": "markdown",
      "source": [
        "# Required preprocessing\n",
        "#### The first objective is to split MIT-BIH record at the R-peaks into individual heartbeat records. This can be done by creating a file which shall have the required information from the csv and txt files. The txt file contains time, sample number and type of the heartbeat. For each row of txt files, take 180 samples before and 179 samples after this sample number to create a time series from the corresponding csv file with the corresponding type as the label. Hence the final file you shall create shall have 360 features, along with it's label. Feel free to try out any other pre-processing, and clearly explain the steps taken for it in the report."
      ],
      "metadata": {
        "id": "ggBXvZlCeklz"
      }
    },
    {
      "cell_type": "markdown",
      "source": [
        "# Heartbeat Prediction Deliverables\n",
        "\n",
        "\n",
        "1.   Do the preprocessing defined in the previous cell. Then plot 3 heartbeats which are classified N and 3 which are classified as some other class. Is there a visible difference between these? How many heartbeats do you have in total? (30 points)\n",
        "\n",
        "2.   Data normalization (can normalize to range [0,1]). Feel free to add any other pre-processing you deem useful. (5 points) (5 bonus points for any other pre-processing added)\n",
        "\n",
        "3.   Class imbalance handling\n",
        " - Show the class imbalance present in the database with the help of plots. Do data augmentation using any method used in programming assignment 2. (10 points)\n",
        " - Show some plots of true anomalies and generated anomalies - And compare them side by side visually. (5 points)\n",
        " - Use an autoencoder to augment data for classes with lesser data (especially for the A class). (10 points)    \n",
        "\n",
        "4.   Data deniosing \n",
        " - Apply any noise reduction method (like Fourier transform, wavelet transform etc). Then plot the heartbeat with and without this filtering, and discuss the differences. Briefly describe how is your method useful. (HINT: Find a method to make the frequency component of noise zero) (10 points)\n",
        "5.   Run at least one supervised linear model and one supervised Non-Linear midol on the processed dataset. Do hyperparameter tuning for the same. Show the confusion matrix, f1-score and accuracy score. Specifically mention the metrics for 'A' class as well. (20 points)\n",
        "\n",
        "\n",
        "6.   Apply a feed-forward neural network and discuss it's performance w.r.t the machine learning model used (on metrics defined in previous question). (20 points)\n",
        "\n",
        "\n",
        "7.   Treating the given problem as an unsupervised learning one, use STL + unsupervised learning (SMA, EMA) to detect anomalies and specifically show the metrics for the 'A' class. (25 points)\n",
        "\n",
        "\n",
        "8.   Implement the neural network architecture from any recent paper on the MIT BIH Arrhythmia Database (check refrences for some papers). It is expected that the implementation should be your own and describe the approach taken. How was the performance of this model? Were you able to get similar scores to the reference paper? Submit your implementation as well. (20 bonus points)\n",
        "\n",
        "9.   Plot the curves of training, validation and test sets losses and accuracy scores with number of epochs on the x-axis for the model which gave the best metrics. Show a table in which rows are the algorithms/ models used and having Precision, Recall and F1-score as metrics. (10 points)\n",
        "\n",
        "\n",
        "10.   Interpretability - Print/plot examples or time-series snippets of mis-classified arrhythmia (False positives) and also false negatives. Why do you think the model might have done a mis-classification here? (10 points)\n",
        "\n",
        "\n",
        "11.   Kaggle Submission (15 points)\n",
        "\n",
        " \n",
        "\n",
        "1.   [✓]\n",
        "2.   [✓]\n",
        "3.   [✓] \n",
        "4.   [✓] \n",
        "5.   [✓] \n",
        "6.   [✓]\n",
        "7.   [✓]\n",
        "8.   [✓]\n",
        "9.   [✓]\n",
        "10.   [✓]\n",
        "11.   [✓]"
      ],
      "metadata": {
        "id": "8KsoPMG0ep0U"
      }
    },
    {
      "cell_type": "markdown",
      "source": [
        "# Refrences\n",
        "MIT-BIH Arrhythmia Database<br>\n",
        "https://physionet.org/content/mitdb/1.0.0/ <br> <br>\n",
        "Noise Reduction in ECG Signals Using Fully Convolutional Denoising Autoencoders <br>\n",
        "https://ieeexplore.ieee.org/document/8693790 <br> <br> \n",
        "ECG arrhythmia classification by using a recurrence plot and convolutional neural network <br>\n",
        "https://www.sciencedirect.com/science/article/abs/pii/S174680942030389X <br> <br> \n",
        "ECG Heartbeat Classification Using Convolutional Neural Networks <br>\n",
        "https://ieeexplore.ieee.org/abstract/document/8952723 <br> <br> \n",
        "Generalization of Convolutional Neural Networks for ECG Classification Using Generative Adversarial Networks <br>\n",
        "https://ieeexplore.ieee.org/abstract/document/9000871 <br> <br> \n",
        "AMSOM: Artifical metaplasticity in SOM neural networks - application to MIT-BIH arrhythmias database <br> \n",
        "https://link.springer.com/article/10.1007/s00521-018-3576-0\n"
      ],
      "metadata": {
        "id": "do5M4zDte0ik"
      }
    },
    {
      "cell_type": "code",
      "execution_count": null,
      "metadata": {
        "id": "-0f1LybO-p4u"
      },
      "outputs": [],
      "source": [
        "# To use torch in python.\n",
        "import torch\n",
        "\n",
        "# To create a model by layers.\n",
        "import torch.nn as nn\n",
        "import torch.nn.functional as F\n",
        "\n",
        "# To set the optimization.\n",
        "import torch.optim as optim\n",
        "from torch.optim import lr_scheduler\n",
        "\n",
        "# To manipulate arrays.\n",
        "import numpy as np\n",
        "\n",
        "# To save the best model and get data files.\n",
        "import os\n",
        "import copy\n",
        "\n",
        "import math\n",
        "import matplotlib.pyplot as plt\n",
        "import matplotlib.colors\n",
        "import pandas as pd\n",
        "from sklearn.model_selection import train_test_split\n",
        "from sklearn.metrics import accuracy_score, mean_squared_error, log_loss\n",
        "from tqdm import tqdm_notebook\n",
        "import seaborn as sns\n",
        "import time\n",
        "import warnings\n",
        "warnings.filterwarnings('ignore')\n",
        "\n",
        "import pywt\n",
        "from scipy import stats\n",
        "import tsaug\n",
        "import torch\n",
        "import csv\n",
        "from pathlib import Path"
      ]
    },
    {
      "cell_type": "markdown",
      "metadata": {
        "id": "jU6eWgdCANon"
      },
      "source": [
        "# Exercise 1"
      ]
    },
    {
      "cell_type": "code",
      "execution_count": null,
      "metadata": {
        "id": "-rYhg5Rk_a7i",
        "outputId": "55609f93-feee-4f95-9716-104a675f50db"
      },
      "outputs": [
        {
          "name": "stdout",
          "output_type": "stream",
          "text": [
            "100\n",
            "101\n",
            "102\n",
            "103\n",
            "104\n",
            "105\n",
            "106\n",
            "107\n",
            "108\n",
            "109\n",
            "111\n",
            "112\n",
            "113\n",
            "114\n",
            "115\n",
            "116\n",
            "117\n",
            "118\n",
            "119\n",
            "121\n",
            "122\n",
            "123\n",
            "124\n",
            "200\n",
            "201\n",
            "202\n",
            "203\n",
            "205\n",
            "207\n",
            "208\n",
            "209\n",
            "210\n",
            "212\n",
            "213\n",
            "214\n",
            "215\n",
            "217\n",
            "219\n",
            "220\n",
            "221\n",
            "222\n",
            "223\n",
            "228\n",
            "230\n"
          ]
        }
      ],
      "source": [
        "def preprocessor():\n",
        "  # Input: List of all csv and txt files.\n",
        "  #data_folder = Path(\"../MiniProject2_HeartPulse/mitbih_database\") #replace with os.getcwd()\n",
        "  # Output: Single dataframe containing entire data.\n",
        "  os.chdir('../MiniProject2_HeartPulse/mitbih_database')\n",
        "  time = range(0,360)\n",
        "  count = 0\n",
        "  df_store = pd.DataFrame(columns=time)\n",
        "  df_store['Type'] = []\n",
        "  for filename in os.listdir(os.getcwd()):\n",
        "    \n",
        "    if '.txt' in filename:\n",
        "      vals=filename.split('annotations')\n",
        "      title = vals[0]\n",
        "      print(title)\n",
        "      csvtitle = title + '.csv'\n",
        "      txt_df = pd.read_fwf(filename)\n",
        "      txt_df.rename(columns = {'Sample #':'sample #'}, inplace = True)\n",
        "      csv_df = pd.read_csv(csvtitle,sep=',',engine='python', error_bad_lines=False)\n",
        "      \n",
        "      lim=0\n",
        "      if \"'MLII'\" in csv_df.columns:\n",
        "        for i in range(txt_df.shape[0]):\n",
        "          #print(txt_df.iloc[i]['Type'])\n",
        "          if txt_df.loc[i]['Type'] in ['N'] and lim<250: #DELETE from HERE IF WANT TO USE ALL DATA\n",
        "            lim += 1\n",
        "            store_type = txt_df.loc[i]['Type']\n",
        "            \n",
        "            center_N = txt_df.loc[i]['sample #']\n",
        "            \n",
        "            lower = center_N-180+1\n",
        "            upper = center_N+179+1\n",
        "            \n",
        "            if lower <0:\n",
        "              lower =0\n",
        "            if upper > csv_df.shape[0]-1:\n",
        "              upper = csv_df.shape[0]\n",
        "            dif = 359 - (upper - lower)  ########changed from 360 - trying to eliminate 0 in front\n",
        "            \n",
        "            if dif == 0:                    ################## changed - fix by reverting to red below - trying to discard rows that are not full 360 points\n",
        "              vals =csv_df.loc[lower:upper][\"'MLII'\"]\n",
        "              data = np.array(vals)\n",
        "              data = np.append(data,store_type)\n",
        "              df_store.loc[count] = data \n",
        "              count += 1\n",
        "            \n",
        "                     \n",
        "          if txt_df.loc[i]['Type'] in ['R','A','L','V']:\n",
        "            store_type = txt_df.loc[i]['Type']\n",
        "            center_N = txt_df.loc[i]['sample #']\n",
        "           \n",
        "            lower = center_N-180+1\n",
        "            upper = center_N+179+1\n",
        "            \n",
        "            if lower <0:\n",
        "              lower =0\n",
        "            if upper > csv_df.shape[0]-1:\n",
        "              upper = csv_df.shape[0]\n",
        "            \n",
        "            dif = 359 - (upper - lower)  ########changed from 360 - trying to eliminate 0 in front\n",
        "            \n",
        "            if dif == 0:                    ################## changed - fix by reverting to red below - trying to discard rows that are not full 360 points\n",
        "              vals =csv_df.loc[lower:upper][\"'MLII'\"]\n",
        "              data = np.array(vals)\n",
        "              data = np.append(data,store_type)\n",
        "              df_store.loc[count] = data \n",
        "              count += 1\n",
        "          \n",
        "          if txt_df.loc[i]['Type'] not in ['N','R','A','L','V']:\n",
        "            store_type = 'U'\n",
        "            center_N = txt_df.loc[i]['sample #']\n",
        "\n",
        "            lower = center_N-180+1\n",
        "            upper = center_N+179+1\n",
        "            \n",
        "            if lower <0:\n",
        "              lower =0\n",
        "            if upper > csv_df.shape[0]-1:\n",
        "              upper = csv_df.shape[0]\n",
        "            \n",
        "            dif = 359 - (upper - lower)  ########changed from 360 - trying to eliminate 0 in front\n",
        "            \n",
        "            if dif == 0:                    ################## changed - fix by reverting to red below - trying to discard rows that are not full 360 points\n",
        "              vals =csv_df.loc[lower:upper][\"'MLII'\"]\n",
        "              data = np.array(vals)\n",
        "              data = np.append(data,store_type)\n",
        "              df_store.loc[count] = data \n",
        "              count += 1\n",
        "       \n",
        "  return df_store\n",
        "\n",
        "df_store = preprocessor()\n",
        "\n",
        "  # It is best to keep functions short(20 lines max), so feel free to use helper functions here."
      ]
    },
    {
      "cell_type": "code",
      "execution_count": null,
      "metadata": {
        "id": "aFW5umCUaPBY",
        "outputId": "7d431d56-43b1-4525-ca01-7845d781658a"
      },
      "outputs": [
        {
          "data": {
            "text/html": [
              "<div>\n",
              "<style scoped>\n",
              "    .dataframe tbody tr th:only-of-type {\n",
              "        vertical-align: middle;\n",
              "    }\n",
              "\n",
              "    .dataframe tbody tr th {\n",
              "        vertical-align: top;\n",
              "    }\n",
              "\n",
              "    .dataframe thead th {\n",
              "        text-align: right;\n",
              "    }\n",
              "</style>\n",
              "<table border=\"1\" class=\"dataframe\">\n",
              "  <thead>\n",
              "    <tr style=\"text-align: right;\">\n",
              "      <th></th>\n",
              "      <th>0</th>\n",
              "      <th>1</th>\n",
              "      <th>2</th>\n",
              "      <th>3</th>\n",
              "      <th>4</th>\n",
              "      <th>5</th>\n",
              "      <th>6</th>\n",
              "      <th>7</th>\n",
              "      <th>8</th>\n",
              "      <th>9</th>\n",
              "      <th>...</th>\n",
              "      <th>351</th>\n",
              "      <th>352</th>\n",
              "      <th>353</th>\n",
              "      <th>354</th>\n",
              "      <th>355</th>\n",
              "      <th>356</th>\n",
              "      <th>357</th>\n",
              "      <th>358</th>\n",
              "      <th>359</th>\n",
              "      <th>Type</th>\n",
              "    </tr>\n",
              "  </thead>\n",
              "  <tbody>\n",
              "    <tr>\n",
              "      <th>0</th>\n",
              "      <td>956</td>\n",
              "      <td>961</td>\n",
              "      <td>964</td>\n",
              "      <td>964</td>\n",
              "      <td>966</td>\n",
              "      <td>965</td>\n",
              "      <td>966</td>\n",
              "      <td>967</td>\n",
              "      <td>969</td>\n",
              "      <td>973</td>\n",
              "      <td>...</td>\n",
              "      <td>958</td>\n",
              "      <td>958</td>\n",
              "      <td>955</td>\n",
              "      <td>955</td>\n",
              "      <td>955</td>\n",
              "      <td>960</td>\n",
              "      <td>958</td>\n",
              "      <td>957</td>\n",
              "      <td>956</td>\n",
              "      <td>N</td>\n",
              "    </tr>\n",
              "    <tr>\n",
              "      <th>1</th>\n",
              "      <td>951</td>\n",
              "      <td>952</td>\n",
              "      <td>951</td>\n",
              "      <td>956</td>\n",
              "      <td>959</td>\n",
              "      <td>961</td>\n",
              "      <td>960</td>\n",
              "      <td>958</td>\n",
              "      <td>958</td>\n",
              "      <td>960</td>\n",
              "      <td>...</td>\n",
              "      <td>950</td>\n",
              "      <td>952</td>\n",
              "      <td>951</td>\n",
              "      <td>952</td>\n",
              "      <td>951</td>\n",
              "      <td>948</td>\n",
              "      <td>950</td>\n",
              "      <td>951</td>\n",
              "      <td>954</td>\n",
              "      <td>N</td>\n",
              "    </tr>\n",
              "    <tr>\n",
              "      <th>2</th>\n",
              "      <td>949</td>\n",
              "      <td>952</td>\n",
              "      <td>956</td>\n",
              "      <td>957</td>\n",
              "      <td>958</td>\n",
              "      <td>957</td>\n",
              "      <td>957</td>\n",
              "      <td>959</td>\n",
              "      <td>960</td>\n",
              "      <td>963</td>\n",
              "      <td>...</td>\n",
              "      <td>957</td>\n",
              "      <td>958</td>\n",
              "      <td>957</td>\n",
              "      <td>956</td>\n",
              "      <td>957</td>\n",
              "      <td>960</td>\n",
              "      <td>956</td>\n",
              "      <td>956</td>\n",
              "      <td>954</td>\n",
              "      <td>N</td>\n",
              "    </tr>\n",
              "    <tr>\n",
              "      <th>3</th>\n",
              "      <td>961</td>\n",
              "      <td>960</td>\n",
              "      <td>959</td>\n",
              "      <td>961</td>\n",
              "      <td>965</td>\n",
              "      <td>967</td>\n",
              "      <td>964</td>\n",
              "      <td>965</td>\n",
              "      <td>967</td>\n",
              "      <td>967</td>\n",
              "      <td>...</td>\n",
              "      <td>958</td>\n",
              "      <td>960</td>\n",
              "      <td>961</td>\n",
              "      <td>959</td>\n",
              "      <td>957</td>\n",
              "      <td>953</td>\n",
              "      <td>955</td>\n",
              "      <td>956</td>\n",
              "      <td>957</td>\n",
              "      <td>N</td>\n",
              "    </tr>\n",
              "    <tr>\n",
              "      <th>4</th>\n",
              "      <td>940</td>\n",
              "      <td>943</td>\n",
              "      <td>948</td>\n",
              "      <td>950</td>\n",
              "      <td>951</td>\n",
              "      <td>951</td>\n",
              "      <td>951</td>\n",
              "      <td>955</td>\n",
              "      <td>958</td>\n",
              "      <td>961</td>\n",
              "      <td>...</td>\n",
              "      <td>962</td>\n",
              "      <td>962</td>\n",
              "      <td>958</td>\n",
              "      <td>957</td>\n",
              "      <td>958</td>\n",
              "      <td>960</td>\n",
              "      <td>959</td>\n",
              "      <td>959</td>\n",
              "      <td>958</td>\n",
              "      <td>N</td>\n",
              "    </tr>\n",
              "    <tr>\n",
              "      <th>...</th>\n",
              "      <td>...</td>\n",
              "      <td>...</td>\n",
              "      <td>...</td>\n",
              "      <td>...</td>\n",
              "      <td>...</td>\n",
              "      <td>...</td>\n",
              "      <td>...</td>\n",
              "      <td>...</td>\n",
              "      <td>...</td>\n",
              "      <td>...</td>\n",
              "      <td>...</td>\n",
              "      <td>...</td>\n",
              "      <td>...</td>\n",
              "      <td>...</td>\n",
              "      <td>...</td>\n",
              "      <td>...</td>\n",
              "      <td>...</td>\n",
              "      <td>...</td>\n",
              "      <td>...</td>\n",
              "      <td>...</td>\n",
              "      <td>...</td>\n",
              "    </tr>\n",
              "    <tr>\n",
              "      <th>29841</th>\n",
              "      <td>1027</td>\n",
              "      <td>1026</td>\n",
              "      <td>1025</td>\n",
              "      <td>1024</td>\n",
              "      <td>1021</td>\n",
              "      <td>1020</td>\n",
              "      <td>1015</td>\n",
              "      <td>1013</td>\n",
              "      <td>1009</td>\n",
              "      <td>1007</td>\n",
              "      <td>...</td>\n",
              "      <td>953</td>\n",
              "      <td>953</td>\n",
              "      <td>955</td>\n",
              "      <td>957</td>\n",
              "      <td>960</td>\n",
              "      <td>960</td>\n",
              "      <td>960</td>\n",
              "      <td>960</td>\n",
              "      <td>955</td>\n",
              "      <td>N</td>\n",
              "    </tr>\n",
              "    <tr>\n",
              "      <th>29842</th>\n",
              "      <td>1061</td>\n",
              "      <td>1062</td>\n",
              "      <td>1059</td>\n",
              "      <td>1061</td>\n",
              "      <td>1061</td>\n",
              "      <td>1061</td>\n",
              "      <td>1061</td>\n",
              "      <td>1060</td>\n",
              "      <td>1058</td>\n",
              "      <td>1058</td>\n",
              "      <td>...</td>\n",
              "      <td>957</td>\n",
              "      <td>954</td>\n",
              "      <td>958</td>\n",
              "      <td>955</td>\n",
              "      <td>957</td>\n",
              "      <td>961</td>\n",
              "      <td>962</td>\n",
              "      <td>965</td>\n",
              "      <td>968</td>\n",
              "      <td>N</td>\n",
              "    </tr>\n",
              "    <tr>\n",
              "      <th>29843</th>\n",
              "      <td>1046</td>\n",
              "      <td>1051</td>\n",
              "      <td>1050</td>\n",
              "      <td>1049</td>\n",
              "      <td>1050</td>\n",
              "      <td>1049</td>\n",
              "      <td>1046</td>\n",
              "      <td>1043</td>\n",
              "      <td>1044</td>\n",
              "      <td>1044</td>\n",
              "      <td>...</td>\n",
              "      <td>967</td>\n",
              "      <td>968</td>\n",
              "      <td>967</td>\n",
              "      <td>968</td>\n",
              "      <td>966</td>\n",
              "      <td>968</td>\n",
              "      <td>966</td>\n",
              "      <td>968</td>\n",
              "      <td>971</td>\n",
              "      <td>N</td>\n",
              "    </tr>\n",
              "    <tr>\n",
              "      <th>29844</th>\n",
              "      <td>1048</td>\n",
              "      <td>1047</td>\n",
              "      <td>1043</td>\n",
              "      <td>1040</td>\n",
              "      <td>1041</td>\n",
              "      <td>1041</td>\n",
              "      <td>1046</td>\n",
              "      <td>1049</td>\n",
              "      <td>1050</td>\n",
              "      <td>1053</td>\n",
              "      <td>...</td>\n",
              "      <td>1006</td>\n",
              "      <td>1005</td>\n",
              "      <td>1002</td>\n",
              "      <td>1002</td>\n",
              "      <td>1004</td>\n",
              "      <td>1006</td>\n",
              "      <td>1008</td>\n",
              "      <td>1006</td>\n",
              "      <td>1004</td>\n",
              "      <td>N</td>\n",
              "    </tr>\n",
              "    <tr>\n",
              "      <th>29845</th>\n",
              "      <td>998</td>\n",
              "      <td>999</td>\n",
              "      <td>995</td>\n",
              "      <td>996</td>\n",
              "      <td>995</td>\n",
              "      <td>998</td>\n",
              "      <td>997</td>\n",
              "      <td>999</td>\n",
              "      <td>1000</td>\n",
              "      <td>1004</td>\n",
              "      <td>...</td>\n",
              "      <td>982</td>\n",
              "      <td>983</td>\n",
              "      <td>983</td>\n",
              "      <td>985</td>\n",
              "      <td>986</td>\n",
              "      <td>987</td>\n",
              "      <td>987</td>\n",
              "      <td>990</td>\n",
              "      <td>991</td>\n",
              "      <td>V</td>\n",
              "    </tr>\n",
              "  </tbody>\n",
              "</table>\n",
              "<p>29846 rows × 361 columns</p>\n",
              "</div>"
            ],
            "text/plain": [
              "          0     1     2     3     4     5     6     7     8     9  ...   351  \\\n",
              "0       956   961   964   964   966   965   966   967   969   973  ...   958   \n",
              "1       951   952   951   956   959   961   960   958   958   960  ...   950   \n",
              "2       949   952   956   957   958   957   957   959   960   963  ...   957   \n",
              "3       961   960   959   961   965   967   964   965   967   967  ...   958   \n",
              "4       940   943   948   950   951   951   951   955   958   961  ...   962   \n",
              "...     ...   ...   ...   ...   ...   ...   ...   ...   ...   ...  ...   ...   \n",
              "29841  1027  1026  1025  1024  1021  1020  1015  1013  1009  1007  ...   953   \n",
              "29842  1061  1062  1059  1061  1061  1061  1061  1060  1058  1058  ...   957   \n",
              "29843  1046  1051  1050  1049  1050  1049  1046  1043  1044  1044  ...   967   \n",
              "29844  1048  1047  1043  1040  1041  1041  1046  1049  1050  1053  ...  1006   \n",
              "29845   998   999   995   996   995   998   997   999  1000  1004  ...   982   \n",
              "\n",
              "        352   353   354   355   356   357   358   359 Type  \n",
              "0       958   955   955   955   960   958   957   956    N  \n",
              "1       952   951   952   951   948   950   951   954    N  \n",
              "2       958   957   956   957   960   956   956   954    N  \n",
              "3       960   961   959   957   953   955   956   957    N  \n",
              "4       962   958   957   958   960   959   959   958    N  \n",
              "...     ...   ...   ...   ...   ...   ...   ...   ...  ...  \n",
              "29841   953   955   957   960   960   960   960   955    N  \n",
              "29842   954   958   955   957   961   962   965   968    N  \n",
              "29843   968   967   968   966   968   966   968   971    N  \n",
              "29844  1005  1002  1002  1004  1006  1008  1006  1004    N  \n",
              "29845   983   983   985   986   987   987   990   991    V  \n",
              "\n",
              "[29846 rows x 361 columns]"
            ]
          },
          "execution_count": 202,
          "metadata": {},
          "output_type": "execute_result"
        }
      ],
      "source": [
        "df_store"
      ]
    },
    {
      "cell_type": "code",
      "execution_count": null,
      "metadata": {
        "id": "VE4I-u70aPBY"
      },
      "outputs": [],
      "source": [
        "df_store.to_csv('df_store250U.csv', index=False, header=True, sep=',')"
      ]
    },
    {
      "cell_type": "code",
      "execution_count": null,
      "metadata": {
        "id": "YH02PXEXaPBY"
      },
      "outputs": [],
      "source": [
        "df_store = pd.read_csv('df_store250U.csv',sep=',',engine='python', error_bad_lines=False)"
      ]
    },
    {
      "cell_type": "code",
      "execution_count": null,
      "metadata": {
        "id": "yJ2wuBN4aPBY"
      },
      "outputs": [],
      "source": [
        "merged_df = df_store.copy()"
      ]
    },
    {
      "cell_type": "code",
      "execution_count": null,
      "metadata": {
        "id": "eIH7zP9saPBY",
        "outputId": "5f73f0b4-8018-4d36-fd56-11e234a1fb72"
      },
      "outputs": [
        {
          "data": {
            "image/png": "[encoded data removed]",
            "text/plain": [
              "<Figure size 432x288 with 1 Axes>"
            ]
          },
          "metadata": {
            "needs_background": "light"
          },
          "output_type": "display_data"
        },
        {
          "data": {
            "image/png": "[encoded data removed]",
            "text/plain": [
              "<Figure size 432x288 with 1 Axes>"
            ]
          },
          "metadata": {
            "needs_background": "light"
          },
          "output_type": "display_data"
        },
        {
          "data": {
            "image/png": "[encoded data removed]",
            "text/plain": [
              "<Figure size 432x288 with 1 Axes>"
            ]
          },
          "metadata": {
            "needs_background": "light"
          },
          "output_type": "display_data"
        },
        {
          "data": {
            "image/png": "[encoded data removed]",
            "text/plain": [
              "<Figure size 432x288 with 1 Axes>"
            ]
          },
          "metadata": {
            "needs_background": "light"
          },
          "output_type": "display_data"
        },
        {
          "data": {
            "image/png": "[encoded data removed]",
            "text/plain": [
              "<Figure size 432x288 with 1 Axes>"
            ]
          },
          "metadata": {
            "needs_background": "light"
          },
          "output_type": "display_data"
        },
        {
          "data": {
            "image/png": "[encoded data removed]",
            "text/plain": [
              "<Figure size 432x288 with 1 Axes>"
            ]
          },
          "metadata": {
            "needs_background": "light"
          },
          "output_type": "display_data"
        },
        {
          "data": {
            "image/png": "[encoded data removed]",
            "text/plain": [
              "<Figure size 432x288 with 1 Axes>"
            ]
          },
          "metadata": {
            "needs_background": "light"
          },
          "output_type": "display_data"
        }
      ],
      "source": [
        "def plotting(df,N=1,L=0,R=0,A=0,V=0):\n",
        "  # Plot a few heartbeats here with proper labelling.\n",
        "  N_df = df[df['Type'] == 'N']\n",
        "  L_df = df[df['Type'] == 'L']\n",
        "  R_df = df[df['Type'] == 'R']\n",
        "  A_df = df[df['Type'] == 'A']\n",
        "  V_df = df[df['Type'] == 'V']\n",
        "  \n",
        "  #U_df = merged_df[(merged_df['Type'] != 'N') & (merged_df['Type'] != 'L') & (merged_df['Type'] != 'R') & (merged_df['Type'] != 'A') & (merged_df['Type'] != 'V')]\n",
        "  \n",
        "  # Plot 3 heartbeats which are classified N and 3 which are classified as some other class\n",
        "  time = list(range(360))\n",
        "  #print(time)\n",
        "  \n",
        "  N_df = N_df.drop('Type', axis=1)\n",
        "  A_df = A_df.drop('Type', axis=1)\n",
        "  V_df = V_df.drop('Type', axis=1)\n",
        "  R_df = R_df.drop('Type', axis=1)\n",
        "  L_df = L_df.drop('Type', axis=1)\n",
        "\n",
        "  for i in range(N):\n",
        "    vals = N_df.iloc[i]\n",
        "    #print(vals)\n",
        "    plt.plot(time,vals)\n",
        "    plt.title('Class: N')\n",
        "    plt.show()\n",
        "  for i in range(A):\n",
        "    vals = A_df.iloc[i]\n",
        "    plt.plot(time,vals)\n",
        "    plt.title('A Class')\n",
        "    plt.show()\n",
        "  for i in range(V):\n",
        "    vals = V_df.iloc[i]\n",
        "    plt.plot(time,vals)\n",
        "    plt.title('V Class')\n",
        "    plt.show()\n",
        "  for i in range(L):\n",
        "    vals = L_df.iloc[i]\n",
        "    plt.plot(time,vals)\n",
        "    plt.title('L Class')\n",
        "    plt.show()\n",
        "  for i in range(R):\n",
        "    vals = R_df.iloc[i]\n",
        "    plt.plot(time,vals)\n",
        "    plt.title('R Class')\n",
        "    plt.show()\n",
        "\n",
        "plotting(merged_df, N=3,A=2,V=2)"
      ]
    },
    {
      "cell_type": "markdown",
      "metadata": {
        "id": "phWctgjPBtfl"
      },
      "source": [
        "# Exercise 2"
      ]
    },
    {
      "cell_type": "code",
      "execution_count": null,
      "metadata": {
        "id": "8beOVCuaaPBZ"
      },
      "outputs": [],
      "source": [
        "categorical_df = merged_df['Type']\n",
        "merged_df = merged_df.drop('Type', axis=1)\n",
        "\n"
      ]
    },
    {
      "cell_type": "code",
      "execution_count": null,
      "metadata": {
        "id": "ilF23C14aPBZ"
      },
      "outputs": [],
      "source": [
        "def cleaning(df):\n",
        "\n",
        "    # Replace non-numeric values with NaN\n",
        "    for col in df.columns:\n",
        "        df[col] = pd.to_numeric(df[col], errors='coerce')\n",
        "\n",
        "    # Replace NaN values with 0\n",
        "    df = df.fillna(0)\n",
        "\n",
        "    return df"
      ]
    },
    {
      "cell_type": "code",
      "execution_count": null,
      "metadata": {
        "id": "c5RjL4oPaPBZ"
      },
      "outputs": [],
      "source": [
        "def normalizer(df):\n",
        "    # Normalize all features to [0, 1] range\n",
        "    df_normalized = (df - df.min()) / (df.max() - df.min())\n",
        "    df_normalized = df_normalized.fillna(0)\n",
        "    return df_normalized\n",
        "# normalize the cleaned dataframe"
      ]
    },
    {
      "cell_type": "code",
      "execution_count": null,
      "metadata": {
        "id": "Q0-dx-2IaPBZ"
      },
      "outputs": [],
      "source": [
        "clean_data=cleaning(merged_df)\n",
        "normalized_df = normalizer(clean_data)\n",
        "normalized_df['Type'] = categorical_df"
      ]
    },
    {
      "cell_type": "code",
      "execution_count": null,
      "metadata": {
        "id": "QAz2YmMiaPBZ",
        "outputId": "0e526c52-ab4c-438a-93cb-3ee1865019b9"
      },
      "outputs": [
        {
          "data": {
            "text/html": [
              "<div>\n",
              "<style scoped>\n",
              "    .dataframe tbody tr th:only-of-type {\n",
              "        vertical-align: middle;\n",
              "    }\n",
              "\n",
              "    .dataframe tbody tr th {\n",
              "        vertical-align: top;\n",
              "    }\n",
              "\n",
              "    .dataframe thead th {\n",
              "        text-align: right;\n",
              "    }\n",
              "</style>\n",
              "<table border=\"1\" class=\"dataframe\">\n",
              "  <thead>\n",
              "    <tr style=\"text-align: right;\">\n",
              "      <th></th>\n",
              "      <th>0</th>\n",
              "      <th>1</th>\n",
              "      <th>2</th>\n",
              "      <th>3</th>\n",
              "      <th>4</th>\n",
              "      <th>5</th>\n",
              "      <th>6</th>\n",
              "      <th>7</th>\n",
              "      <th>8</th>\n",
              "      <th>9</th>\n",
              "      <th>...</th>\n",
              "      <th>351</th>\n",
              "      <th>352</th>\n",
              "      <th>353</th>\n",
              "      <th>354</th>\n",
              "      <th>355</th>\n",
              "      <th>356</th>\n",
              "      <th>357</th>\n",
              "      <th>358</th>\n",
              "      <th>359</th>\n",
              "      <th>Type</th>\n",
              "    </tr>\n",
              "  </thead>\n",
              "  <tbody>\n",
              "    <tr>\n",
              "      <th>0</th>\n",
              "      <td>0.545930</td>\n",
              "      <td>0.521293</td>\n",
              "      <td>0.494992</td>\n",
              "      <td>0.496259</td>\n",
              "      <td>0.500414</td>\n",
              "      <td>0.497565</td>\n",
              "      <td>0.498002</td>\n",
              "      <td>0.515397</td>\n",
              "      <td>0.521388</td>\n",
              "      <td>0.538868</td>\n",
              "      <td>...</td>\n",
              "      <td>0.468002</td>\n",
              "      <td>0.468002</td>\n",
              "      <td>0.466536</td>\n",
              "      <td>0.466536</td>\n",
              "      <td>0.466536</td>\n",
              "      <td>0.468979</td>\n",
              "      <td>0.468002</td>\n",
              "      <td>0.467513</td>\n",
              "      <td>0.467025</td>\n",
              "      <td>N</td>\n",
              "    </tr>\n",
              "    <tr>\n",
              "      <th>1</th>\n",
              "      <td>0.542196</td>\n",
              "      <td>0.514196</td>\n",
              "      <td>0.484140</td>\n",
              "      <td>0.489609</td>\n",
              "      <td>0.494624</td>\n",
              "      <td>0.494318</td>\n",
              "      <td>0.493205</td>\n",
              "      <td>0.508104</td>\n",
              "      <td>0.512510</td>\n",
              "      <td>0.529057</td>\n",
              "      <td>...</td>\n",
              "      <td>0.464094</td>\n",
              "      <td>0.465071</td>\n",
              "      <td>0.464582</td>\n",
              "      <td>0.465071</td>\n",
              "      <td>0.464582</td>\n",
              "      <td>0.463117</td>\n",
              "      <td>0.464094</td>\n",
              "      <td>0.464582</td>\n",
              "      <td>0.466048</td>\n",
              "      <td>N</td>\n",
              "    </tr>\n",
              "    <tr>\n",
              "      <th>2</th>\n",
              "      <td>0.540702</td>\n",
              "      <td>0.514196</td>\n",
              "      <td>0.488314</td>\n",
              "      <td>0.490441</td>\n",
              "      <td>0.493797</td>\n",
              "      <td>0.491071</td>\n",
              "      <td>0.490807</td>\n",
              "      <td>0.508914</td>\n",
              "      <td>0.514124</td>\n",
              "      <td>0.531321</td>\n",
              "      <td>...</td>\n",
              "      <td>0.467513</td>\n",
              "      <td>0.468002</td>\n",
              "      <td>0.467513</td>\n",
              "      <td>0.467025</td>\n",
              "      <td>0.467513</td>\n",
              "      <td>0.468979</td>\n",
              "      <td>0.467025</td>\n",
              "      <td>0.467025</td>\n",
              "      <td>0.466048</td>\n",
              "      <td>N</td>\n",
              "    </tr>\n",
              "    <tr>\n",
              "      <th>3</th>\n",
              "      <td>0.549664</td>\n",
              "      <td>0.520505</td>\n",
              "      <td>0.490818</td>\n",
              "      <td>0.493766</td>\n",
              "      <td>0.499586</td>\n",
              "      <td>0.499188</td>\n",
              "      <td>0.496403</td>\n",
              "      <td>0.513776</td>\n",
              "      <td>0.519774</td>\n",
              "      <td>0.534340</td>\n",
              "      <td>...</td>\n",
              "      <td>0.468002</td>\n",
              "      <td>0.468979</td>\n",
              "      <td>0.469468</td>\n",
              "      <td>0.468490</td>\n",
              "      <td>0.467513</td>\n",
              "      <td>0.465559</td>\n",
              "      <td>0.466536</td>\n",
              "      <td>0.467025</td>\n",
              "      <td>0.467513</td>\n",
              "      <td>N</td>\n",
              "    </tr>\n",
              "    <tr>\n",
              "      <th>4</th>\n",
              "      <td>0.533981</td>\n",
              "      <td>0.507098</td>\n",
              "      <td>0.481636</td>\n",
              "      <td>0.484622</td>\n",
              "      <td>0.488007</td>\n",
              "      <td>0.486201</td>\n",
              "      <td>0.486011</td>\n",
              "      <td>0.505673</td>\n",
              "      <td>0.512510</td>\n",
              "      <td>0.529811</td>\n",
              "      <td>...</td>\n",
              "      <td>0.469956</td>\n",
              "      <td>0.469956</td>\n",
              "      <td>0.468002</td>\n",
              "      <td>0.467513</td>\n",
              "      <td>0.468002</td>\n",
              "      <td>0.468979</td>\n",
              "      <td>0.468490</td>\n",
              "      <td>0.468490</td>\n",
              "      <td>0.468002</td>\n",
              "      <td>N</td>\n",
              "    </tr>\n",
              "    <tr>\n",
              "      <th>...</th>\n",
              "      <td>...</td>\n",
              "      <td>...</td>\n",
              "      <td>...</td>\n",
              "      <td>...</td>\n",
              "      <td>...</td>\n",
              "      <td>...</td>\n",
              "      <td>...</td>\n",
              "      <td>...</td>\n",
              "      <td>...</td>\n",
              "      <td>...</td>\n",
              "      <td>...</td>\n",
              "      <td>...</td>\n",
              "      <td>...</td>\n",
              "      <td>...</td>\n",
              "      <td>...</td>\n",
              "      <td>...</td>\n",
              "      <td>...</td>\n",
              "      <td>...</td>\n",
              "      <td>...</td>\n",
              "      <td>...</td>\n",
              "      <td>...</td>\n",
              "    </tr>\n",
              "    <tr>\n",
              "      <th>34314</th>\n",
              "      <td>0.554145</td>\n",
              "      <td>0.528391</td>\n",
              "      <td>0.500835</td>\n",
              "      <td>0.503741</td>\n",
              "      <td>0.503722</td>\n",
              "      <td>0.500812</td>\n",
              "      <td>0.501998</td>\n",
              "      <td>0.519449</td>\n",
              "      <td>0.523810</td>\n",
              "      <td>0.537358</td>\n",
              "      <td>...</td>\n",
              "      <td>0.479726</td>\n",
              "      <td>0.477772</td>\n",
              "      <td>0.476307</td>\n",
              "      <td>0.477284</td>\n",
              "      <td>0.476795</td>\n",
              "      <td>0.478261</td>\n",
              "      <td>0.479726</td>\n",
              "      <td>0.479238</td>\n",
              "      <td>0.479238</td>\n",
              "      <td>N</td>\n",
              "    </tr>\n",
              "    <tr>\n",
              "      <th>34315</th>\n",
              "      <td>0.545930</td>\n",
              "      <td>0.515773</td>\n",
              "      <td>0.489149</td>\n",
              "      <td>0.493766</td>\n",
              "      <td>0.495451</td>\n",
              "      <td>0.491071</td>\n",
              "      <td>0.490008</td>\n",
              "      <td>0.506483</td>\n",
              "      <td>0.515738</td>\n",
              "      <td>0.532075</td>\n",
              "      <td>...</td>\n",
              "      <td>0.479726</td>\n",
              "      <td>0.480215</td>\n",
              "      <td>0.479238</td>\n",
              "      <td>0.477772</td>\n",
              "      <td>0.476307</td>\n",
              "      <td>0.477284</td>\n",
              "      <td>0.478749</td>\n",
              "      <td>0.478749</td>\n",
              "      <td>0.478261</td>\n",
              "      <td>N</td>\n",
              "    </tr>\n",
              "    <tr>\n",
              "      <th>34316</th>\n",
              "      <td>0.607170</td>\n",
              "      <td>0.596215</td>\n",
              "      <td>0.594324</td>\n",
              "      <td>0.620948</td>\n",
              "      <td>0.648470</td>\n",
              "      <td>0.668019</td>\n",
              "      <td>0.684253</td>\n",
              "      <td>0.726904</td>\n",
              "      <td>0.753027</td>\n",
              "      <td>0.761509</td>\n",
              "      <td>...</td>\n",
              "      <td>0.475330</td>\n",
              "      <td>0.475818</td>\n",
              "      <td>0.474353</td>\n",
              "      <td>0.473864</td>\n",
              "      <td>0.473864</td>\n",
              "      <td>0.474353</td>\n",
              "      <td>0.475330</td>\n",
              "      <td>0.475330</td>\n",
              "      <td>0.472887</td>\n",
              "      <td>V</td>\n",
              "    </tr>\n",
              "    <tr>\n",
              "      <th>34317</th>\n",
              "      <td>0.551158</td>\n",
              "      <td>0.522871</td>\n",
              "      <td>0.491653</td>\n",
              "      <td>0.493766</td>\n",
              "      <td>0.496278</td>\n",
              "      <td>0.496753</td>\n",
              "      <td>0.500400</td>\n",
              "      <td>0.516207</td>\n",
              "      <td>0.518160</td>\n",
              "      <td>0.532075</td>\n",
              "      <td>...</td>\n",
              "      <td>0.466048</td>\n",
              "      <td>0.467025</td>\n",
              "      <td>0.467025</td>\n",
              "      <td>0.468979</td>\n",
              "      <td>0.468002</td>\n",
              "      <td>0.467025</td>\n",
              "      <td>0.465559</td>\n",
              "      <td>0.465071</td>\n",
              "      <td>0.466536</td>\n",
              "      <td>V</td>\n",
              "    </tr>\n",
              "    <tr>\n",
              "      <th>34318</th>\n",
              "      <td>0.756535</td>\n",
              "      <td>0.750000</td>\n",
              "      <td>0.727045</td>\n",
              "      <td>0.699917</td>\n",
              "      <td>0.664185</td>\n",
              "      <td>0.620942</td>\n",
              "      <td>0.584333</td>\n",
              "      <td>0.567261</td>\n",
              "      <td>0.529459</td>\n",
              "      <td>0.510943</td>\n",
              "      <td>...</td>\n",
              "      <td>0.460186</td>\n",
              "      <td>0.460674</td>\n",
              "      <td>0.461651</td>\n",
              "      <td>0.462628</td>\n",
              "      <td>0.464582</td>\n",
              "      <td>0.463605</td>\n",
              "      <td>0.462140</td>\n",
              "      <td>0.462628</td>\n",
              "      <td>0.463605</td>\n",
              "      <td>V</td>\n",
              "    </tr>\n",
              "  </tbody>\n",
              "</table>\n",
              "<p>34319 rows × 361 columns</p>\n",
              "</div>"
            ],
            "text/plain": [
              "              0         1         2         3         4         5         6  \\\n",
              "0      0.545930  0.521293  0.494992  0.496259  0.500414  0.497565  0.498002   \n",
              "1      0.542196  0.514196  0.484140  0.489609  0.494624  0.494318  0.493205   \n",
              "2      0.540702  0.514196  0.488314  0.490441  0.493797  0.491071  0.490807   \n",
              "3      0.549664  0.520505  0.490818  0.493766  0.499586  0.499188  0.496403   \n",
              "4      0.533981  0.507098  0.481636  0.484622  0.488007  0.486201  0.486011   \n",
              "...         ...       ...       ...       ...       ...       ...       ...   \n",
              "34314  0.554145  0.528391  0.500835  0.503741  0.503722  0.500812  0.501998   \n",
              "34315  0.545930  0.515773  0.489149  0.493766  0.495451  0.491071  0.490008   \n",
              "34316  0.607170  0.596215  0.594324  0.620948  0.648470  0.668019  0.684253   \n",
              "34317  0.551158  0.522871  0.491653  0.493766  0.496278  0.496753  0.500400   \n",
              "34318  0.756535  0.750000  0.727045  0.699917  0.664185  0.620942  0.584333   \n",
              "\n",
              "              7         8         9  ...       351       352       353  \\\n",
              "0      0.515397  0.521388  0.538868  ...  0.468002  0.468002  0.466536   \n",
              "1      0.508104  0.512510  0.529057  ...  0.464094  0.465071  0.464582   \n",
              "2      0.508914  0.514124  0.531321  ...  0.467513  0.468002  0.467513   \n",
              "3      0.513776  0.519774  0.534340  ...  0.468002  0.468979  0.469468   \n",
              "4      0.505673  0.512510  0.529811  ...  0.469956  0.469956  0.468002   \n",
              "...         ...       ...       ...  ...       ...       ...       ...   \n",
              "34314  0.519449  0.523810  0.537358  ...  0.479726  0.477772  0.476307   \n",
              "34315  0.506483  0.515738  0.532075  ...  0.479726  0.480215  0.479238   \n",
              "34316  0.726904  0.753027  0.761509  ...  0.475330  0.475818  0.474353   \n",
              "34317  0.516207  0.518160  0.532075  ...  0.466048  0.467025  0.467025   \n",
              "34318  0.567261  0.529459  0.510943  ...  0.460186  0.460674  0.461651   \n",
              "\n",
              "            354       355       356       357       358       359  Type  \n",
              "0      0.466536  0.466536  0.468979  0.468002  0.467513  0.467025     N  \n",
              "1      0.465071  0.464582  0.463117  0.464094  0.464582  0.466048     N  \n",
              "2      0.467025  0.467513  0.468979  0.467025  0.467025  0.466048     N  \n",
              "3      0.468490  0.467513  0.465559  0.466536  0.467025  0.467513     N  \n",
              "4      0.467513  0.468002  0.468979  0.468490  0.468490  0.468002     N  \n",
              "...         ...       ...       ...       ...       ...       ...   ...  \n",
              "34314  0.477284  0.476795  0.478261  0.479726  0.479238  0.479238     N  \n",
              "34315  0.477772  0.476307  0.477284  0.478749  0.478749  0.478261     N  \n",
              "34316  0.473864  0.473864  0.474353  0.475330  0.475330  0.472887     V  \n",
              "34317  0.468979  0.468002  0.467025  0.465559  0.465071  0.466536     V  \n",
              "34318  0.462628  0.464582  0.463605  0.462140  0.462628  0.463605     V  \n",
              "\n",
              "[34319 rows x 361 columns]"
            ]
          },
          "execution_count": 9,
          "metadata": {},
          "output_type": "execute_result"
        }
      ],
      "source": [
        "normalized_df"
      ]
    },
    {
      "cell_type": "markdown",
      "metadata": {
        "id": "v8egAhXKCAqI"
      },
      "source": [
        "# Exercise 3"
      ]
    },
    {
      "cell_type": "code",
      "execution_count": null,
      "metadata": {
        "id": "-dO_l4xraPBZ"
      },
      "outputs": [],
      "source": [
        "from imblearn.over_sampling import SMOTE"
      ]
    },
    {
      "cell_type": "code",
      "execution_count": null,
      "metadata": {
        "id": "tT0Jm6s5aPBZ",
        "outputId": "1e7bf089-da0a-4614-c2ea-cf4136d44fd6"
      },
      "outputs": [
        {
          "name": "stdout",
          "output_type": "stream",
          "text": [
            "L    8071\n",
            "N    7729\n",
            "U    6924\n",
            "R    5605\n",
            "V    5117\n",
            "A     873\n",
            "Name: Type, dtype: int64\n"
          ]
        },
        {
          "data": {
            "image/png": "[encoded data removed]",
            "text/plain": [
              "<Figure size 576x432 with 1 Axes>"
            ]
          },
          "metadata": {
            "needs_background": "light"
          },
          "output_type": "display_data"
        }
      ],
      "source": [
        "def class_imbalance_checker(dataframe):\n",
        "    # Get the count of each heartbeat type in the dataframe\n",
        "    counts = dataframe['Type'].value_counts()\n",
        "    print(counts)\n",
        "    # Plot the counts using a bar plot\n",
        "    plt.figure(figsize=(8, 6))\n",
        "    sns.barplot(x=counts.index, y=counts.values)\n",
        "    plt.title('Class Imbalance Check')\n",
        "    plt.xlabel('Heartbeat Type')\n",
        "    plt.ylabel('Count')\n",
        "    plt.show()\n",
        "class_imbalance_checker(normalized_df)"
      ]
    },
    {
      "cell_type": "code",
      "execution_count": null,
      "metadata": {
        "id": "gCyvpO3LaPBZ"
      },
      "outputs": [],
      "source": [
        "from sklearn.preprocessing import LabelEncoder\n",
        "\n",
        "# instantiating the LabelEncoder\n",
        "le = LabelEncoder()\n",
        "\n",
        "# encoding the 'Type' column\n",
        "normalized_df['Type'] = le.fit_transform(normalized_df['Type'])"
      ]
    },
    {
      "cell_type": "code",
      "execution_count": null,
      "metadata": {
        "id": "vsjsPsLVaPBZ"
      },
      "outputs": [],
      "source": [
        "X = normalized_df.drop('Type', axis=1).values\n",
        "y = normalized_df['Type'].values"
      ]
    },
    {
      "cell_type": "code",
      "execution_count": null,
      "metadata": {
        "id": "qd3BYWM0aPBZ"
      },
      "outputs": [],
      "source": [
        "#Methods\n",
        "# randomly under sample extra N class examples since there are 100 times more\n",
        "# Augment data by creating example data in low categories"
      ]
    },
    {
      "cell_type": "code",
      "execution_count": null,
      "metadata": {
        "id": "_ilYxT_2aPBZ"
      },
      "outputs": [],
      "source": [
        "from imblearn.under_sampling import RandomUnderSampler\n",
        "\n",
        "def imbalance_remover_1(X, y):\n",
        "    # Implement a method to handle class imbalance.\n",
        "    rus = RandomUnderSampler(random_state=42)\n",
        "    X_resampled, y_resampled = rus.fit_resample(X, y)\n",
        "        # Plot the original class distribution\n",
        "    plt.bar(np.unique(y), np.bincount(y))\n",
        "    plt.title('Original Class Distribution')\n",
        "    plt.show()\n",
        "\n",
        "    # Plot the new class distribution after SMOTE\n",
        "    plt.bar(np.unique(y_resampled), np.bincount(y_resampled))\n",
        "    plt.title('New Class Distribution after SMOTE')\n",
        "    plt.show()\n",
        "    return X_resampled, y_resampled"
      ]
    },
    {
      "cell_type": "code",
      "execution_count": null,
      "metadata": {
        "id": "vjkkfHPMaPBZ",
        "outputId": "42f81c62-c349-4703-9c32-2f927c1ca9f1"
      },
      "outputs": [
        {
          "data": {
            "image/png": "[encoded data removed]",
            "text/plain": [
              "<Figure size 432x288 with 1 Axes>"
            ]
          },
          "metadata": {
            "needs_background": "light"
          },
          "output_type": "display_data"
        },
        {
          "data": {
            "image/png": "[encoded data removed]",
            "text/plain": [
              "<Figure size 432x288 with 1 Axes>"
            ]
          },
          "metadata": {
            "needs_background": "light"
          },
          "output_type": "display_data"
        }
      ],
      "source": [
        "balanced_X, balanced_y = imbalance_remover_1(X, y)\n",
        "balanced_X[np.isnan(balanced_X)] = 0"
      ]
    },
    {
      "cell_type": "code",
      "execution_count": null,
      "metadata": {
        "id": "iHfbDPDNaPBa"
      },
      "outputs": [],
      "source": [
        "!pip install tsaug"
      ]
    },
    {
      "cell_type": "code",
      "execution_count": null,
      "metadata": {
        "id": "uBj0WL9taPBa",
        "outputId": "1935ce78-f5ae-4f71-e73b-7cff766b54ac"
      },
      "outputs": [
        {
          "name": "stdout",
          "output_type": "stream",
          "text": [
            "(360,)\n"
          ]
        },
        {
          "data": {
            "image/png": "[encoded data removed]",
            "text/plain": [
              "<Figure size 432x288 with 1 Axes>"
            ]
          },
          "metadata": {
            "needs_background": "light"
          },
          "output_type": "display_data"
        },
        {
          "data": {
            "image/png": "[encoded data removed]",
            "text/plain": [
              "<Figure size 432x288 with 1 Axes>"
            ]
          },
          "metadata": {
            "needs_background": "light"
          },
          "output_type": "display_data"
        }
      ],
      "source": [
        "from tsaug import Drift\n",
        "timeperiod = np.arange(360)\n",
        "\n",
        "my_augmenter = (Drift(max_drift=(0.1, 0.5)) @ 0.8)  \n",
        "\n",
        "X_aug, time_aug = my_augmenter.augment(X[2],timeperiod) \n",
        "print(np.shape(X_aug))\n",
        "\n",
        "vals = X[2]\n",
        "plt.plot(timeperiod,vals)\n",
        "plt.title('Original Example')\n",
        "plt.show()\n",
        "\n",
        "vals = X_aug\n",
        "plt.plot(time_aug,vals)\n",
        "plt.title('Augmented Example')\n",
        "plt.show()"
      ]
    },
    {
      "cell_type": "markdown",
      "metadata": {
        "id": "kpKWJP-eCYLF"
      },
      "source": [
        "# Exercise 4"
      ]
    },
    {
      "cell_type": "code",
      "execution_count": null,
      "metadata": {
        "id": "McVCMN3OaPBa"
      },
      "outputs": [],
      "source": [
        "import pywt\n",
        "import pandas as pd"
      ]
    },
    {
      "cell_type": "code",
      "execution_count": null,
      "metadata": {
        "id": "4vUMd9XCaPBa"
      },
      "outputs": [],
      "source": [
        "def noise_remover1(X):\n",
        "    # Apply wavelet denoising to all heartbeats\n",
        "    denoised_X = []\n",
        "    for x in X:\n",
        "        # Perform wavelet decomposition with 3 levels using the db4 wavelet\n",
        "        coeffs = pywt.wavedec(x, 'db4', level=3)\n",
        "        # Set the smallest detail coefficients to zero\n",
        "        coeffs[1:] = [pywt.threshold(c, 0.5, mode='soft') for c in coeffs[1:]]\n",
        "        # Reconstruct the denoised heartbeat\n",
        "        denoised_x = pywt.waverec(coeffs, 'db4')\n",
        "        denoised_X.append(denoised_x)\n",
        "    return np.array(denoised_X)\n"
      ]
    },
    {
      "cell_type": "code",
      "execution_count": null,
      "metadata": {
        "id": "U8sShUgVaPBa"
      },
      "outputs": [],
      "source": [
        "noise_x=noise_remover1(balanced_X)"
      ]
    },
    {
      "cell_type": "code",
      "execution_count": null,
      "metadata": {
        "id": "dMM4uf5_aPBa",
        "outputId": "e7be110b-729d-4279-ad22-74c04d9447f8"
      },
      "outputs": [
        {
          "name": "stdout",
          "output_type": "stream",
          "text": [
            "(34319, 360)\n",
            "(5238, 360)\n",
            "<class 'numpy.ndarray'>\n"
          ]
        }
      ],
      "source": [
        "print(X.shape)\n",
        "print(noise_x.shape)\n",
        "print(type(X))"
      ]
    },
    {
      "cell_type": "code",
      "execution_count": null,
      "metadata": {
        "id": "34l5wCt8aPBa",
        "outputId": "a5a6dca6-2a78-4c66-8965-cb44c67a7408"
      },
      "outputs": [
        {
          "data": {
            "image/png": "[encoded data removed]",
            "text/plain": [
              "<Figure size 432x288 with 1 Axes>"
            ]
          },
          "metadata": {
            "needs_background": "light"
          },
          "output_type": "display_data"
        },
        {
          "data": {
            "image/png": "[encoded data removed]",
            "text/plain": [
              "<Figure size 432x288 with 1 Axes>"
            ]
          },
          "metadata": {
            "needs_background": "light"
          },
          "output_type": "display_data"
        }
      ],
      "source": [
        "timeperiod = list(range(360))\n",
        "vals = X[2]\n",
        "plt.plot(timeperiod,vals)\n",
        "plt.title('Original')\n",
        "plt.show()\n",
        "\n",
        "vals_noise = noise_x[2]\n",
        "plt.plot(timeperiod,vals_noise)\n",
        "plt.title('Without Noise')\n",
        "plt.show()"
      ]
    },
    {
      "cell_type": "code",
      "execution_count": null,
      "metadata": {
        "id": "wtrTwWBEaPBa"
      },
      "outputs": [],
      "source": [
        "X[np.isnan(X)] = 0"
      ]
    },
    {
      "cell_type": "code",
      "execution_count": null,
      "metadata": {
        "id": "6HHy_a9RaPBa",
        "outputId": "7396ed0a-99aa-4bde-fe8e-33f5704232e3"
      },
      "outputs": [
        {
          "data": {
            "text/plain": [
              "array([2, 2, 2, ..., 2, 2, 4])"
            ]
          },
          "execution_count": 158,
          "metadata": {},
          "output_type": "execute_result"
        }
      ],
      "source": [
        "y"
      ]
    },
    {
      "cell_type": "markdown",
      "metadata": {
        "id": "oQsIlyNwJLXL"
      },
      "source": [
        "# Exercise 5"
      ]
    },
    {
      "cell_type": "code",
      "execution_count": null,
      "metadata": {
        "id": "6OXEA5F_aPBa"
      },
      "outputs": [],
      "source": [
        "from sklearn.linear_model import LogisticRegression\n",
        "from sklearn.ensemble import RandomForestClassifier\n",
        "from sklearn.metrics import confusion_matrix, f1_score, accuracy_score"
      ]
    },
    {
      "cell_type": "code",
      "execution_count": null,
      "metadata": {
        "id": "3dbFRTI4aPBa"
      },
      "outputs": [],
      "source": [
        "# Splitting the dataset into train, val and test sets.\n",
        "# 2.0\n",
        "X_train, X_val, y_train, y_val = train_test_split(noise_x, balanced_y, test_size=0.2, random_state=42) #############changes to noise X to train model\n",
        "#X_val, X_test, y_val, y_test = train_test_split(X_val_test, y_val_test, test_size=0.5, random_state=42)"
      ]
    },
    {
      "cell_type": "code",
      "execution_count": null,
      "metadata": {
        "id": "QxZeoqJeaPBa",
        "outputId": "13f1d3e0-adeb-4184-9118-9085d2c7ddd6"
      },
      "outputs": [
        {
          "name": "stdout",
          "output_type": "stream",
          "text": [
            "[3 2 5 ... 5 5 0]\n"
          ]
        }
      ],
      "source": [
        "print(y_train)"
      ]
    },
    {
      "cell_type": "code",
      "execution_count": null,
      "metadata": {
        "id": "BNbzqjKzaPBa"
      },
      "outputs": [],
      "source": [
        "# Code for different models used.\n",
        "\n",
        "def Model1(X_train, y_train,X_val,y_val):\n",
        "\n",
        "  # Train a logistic regression model\n",
        "  logreg = LogisticRegression(random_state=42)\n",
        "  logreg = logreg.fit(X_train, y_train)\n",
        "\n",
        "  # Make predictions on the validation set\n",
        "  y_val_pred = logreg.predict(X_val)\n",
        "\n",
        "  # Compute the confusion matrix, F1 score, and accuracy score on the validation set\n",
        "  conf_mat = confusion_matrix(y_val, y_val_pred)\n",
        "  f1 = f1_score(y_val, y_val_pred, average='weighted')\n",
        "  acc = accuracy_score(y_val, y_val_pred)\n",
        "\n",
        "  print('Logistic regression:')\n",
        "  print('Confusion matrix:')\n",
        "  print(conf_mat)\n",
        "  print('F1 score:', f1)\n",
        "  print('Accuracy score:', acc)\n",
        "  print()\n",
        "  return logreg\n"
      ]
    },
    {
      "cell_type": "code",
      "execution_count": null,
      "metadata": {
        "id": "rccpJ6lRaPBa"
      },
      "outputs": [],
      "source": [
        "# Code for different models used.\n",
        "\n",
        "def Model2(X_train, y_train,X_val,y_val):\n",
        "  \n",
        "  # Train a random forest model\n",
        "  rf = RandomForestClassifier(n_estimators=100, random_state=42, min_samples_leaf= 5)\n",
        "  rf = rf.fit(X_train, y_train)\n",
        "\n",
        "  # Make predictions on the validation set\n",
        "  y_val_pred = rf.predict(X_val)\n",
        "\n",
        "  # Compute the confusion matrix, F1 score, and accuracy score on the validation set\n",
        "  conf_mat = confusion_matrix(y_val, y_val_pred)\n",
        "  f1 = f1_score(y_val, y_val_pred, average='weighted')\n",
        "  acc = accuracy_score(y_val, y_val_pred)\n",
        "\n",
        "  print('Random forest:')\n",
        "  print('Confusion matrix:')\n",
        "  print(conf_mat)\n",
        "  print('F1 score:', f1)\n",
        "  print('Accuracy score:', acc)\n",
        "  print()\n",
        "  return rf"
      ]
    },
    {
      "cell_type": "code",
      "execution_count": null,
      "metadata": {
        "id": "kt8iGWaSaPBa",
        "outputId": "8a1a514c-a847-4da1-fc9d-4da5f62efdd0"
      },
      "outputs": [
        {
          "name": "stdout",
          "output_type": "stream",
          "text": [
            "Logistic regression:\n",
            "Confusion matrix:\n",
            "[[112   5  41  35   3   2]\n",
            " [  2 119  26   0   0  26]\n",
            " [ 33  12  96   9   2  11]\n",
            " [  1   3   8 152   0   0]\n",
            " [  6  27  21   1  91  29]\n",
            " [ 14  15   5   4  12 125]]\n",
            "F1 score: 0.6607311218167035\n",
            "Accuracy score: 0.6631679389312977\n",
            "\n"
          ]
        }
      ],
      "source": [
        "M1 = Model1(X_train, y_train,X_val,y_val)"
      ]
    },
    {
      "cell_type": "code",
      "execution_count": null,
      "metadata": {
        "id": "CJfzI12MaPBb",
        "outputId": "3aec153e-47a5-482d-c4bf-0dda612db0a5"
      },
      "outputs": [
        {
          "name": "stdout",
          "output_type": "stream",
          "text": [
            "Random forest:\n",
            "Confusion matrix:\n",
            "[[174   0  14   6   2   2]\n",
            " [  0 167   1   0   3   2]\n",
            " [  9   2 149   0   3   0]\n",
            " [  1   0   4 157   1   1]\n",
            " [  2   3   5   1 152  12]\n",
            " [  6   1   3   1   4 160]]\n",
            "F1 score: 0.9151215195123332\n",
            "Accuracy score: 0.9150763358778626\n",
            "\n"
          ]
        }
      ],
      "source": [
        "M2 = Model2(X_train, y_train,X_val,y_val)"
      ]
    },
    {
      "cell_type": "markdown",
      "metadata": {
        "id": "fLNyFQROaPBb"
      },
      "source": [
        "Testing Kaggle data to Models 1 and 2"
      ]
    },
    {
      "cell_type": "code",
      "execution_count": null,
      "metadata": {
        "id": "UJQ6-qNKaPBb"
      },
      "outputs": [],
      "source": [
        "df_kag = pd.read_csv('../MiniProject2_HeartPulse/kaggle.csv',sep=',', engine='python', quoting=csv.QUOTE_NONE)"
      ]
    },
    {
      "cell_type": "code",
      "execution_count": null,
      "metadata": {
        "id": "zL1EHDoXaPBb",
        "outputId": "234c8edc-ad2b-454a-b0bb-74817438b01f"
      },
      "outputs": [
        {
          "name": "stdout",
          "output_type": "stream",
          "text": [
            "[4 4 4 ... 2 2 2]\n",
            "['U' 'U' 'U' ... 'N' 'N' 'N']\n"
          ]
        }
      ],
      "source": [
        "id =df_kag['Id']\n",
        "X_final = df_kag.drop('Id', axis=1)\n",
        "clean_X = cleaning(X_final)\n",
        "normalized_X = normalizer(clean_X)\n",
        "#normalized_X[np.isnan(normalized_X)] = 0\n",
        "\n",
        "normalized_X = normalized_X.to_numpy()\n",
        "\n",
        "noise_X = noise_remover1(normalized_X)\n",
        "\n",
        "y_predict = M2.predict(noise_X)\n",
        "print(y_predict)\n",
        "y_final = le.inverse_transform(y_predict)\n",
        "print(y_final)"
      ]
    },
    {
      "cell_type": "code",
      "execution_count": null,
      "metadata": {
        "id": "Kt9ULe9KaPBb"
      },
      "outputs": [],
      "source": [
        "excel = pd.DataFrame(index=None)\n",
        "filepath = Path('C:/UW_PMP_Masters/EE__P_594_A_Machine_Learning/MiniProject2_HeartPulse/kaggle_M2.csv')  \n",
        "excel['Id']=id\n",
        "excel['heartbeat_type']=y_final\n",
        "#print(excel)\n",
        "excel.to_csv(filepath, index=False) "
      ]
    },
    {
      "cell_type": "markdown",
      "metadata": {
        "id": "uVTS6siyJWfJ"
      },
      "source": [
        "# Exercise 6"
      ]
    },
    {
      "cell_type": "code",
      "execution_count": null,
      "metadata": {
        "id": "O9MrekU8aPBb"
      },
      "outputs": [],
      "source": [
        "from tensorflow.keras.models import Sequential\n",
        "from tensorflow import keras\n",
        "model = tf.keras.models.Sequential()\n",
        "from keras import models, layers, optimizers, regularizers, metrics\n",
        "from tensorflow.keras.layers import Dense\n",
        "from keras.models import Model\n",
        "from tensorflow.keras.layers import BatchNormalization\n",
        "from keras.utils.np_utils import to_categorical\n",
        "import keras\n",
        "from keras.callbacks import EarlyStopping, ModelCheckpoint"
      ]
    },
    {
      "cell_type": "code",
      "execution_count": null,
      "metadata": {
        "id": "s75zkxAAaPBb"
      },
      "outputs": [],
      "source": [
        "hidden_units = 20     # how many neurons in the hidden layer\n",
        "activation = 'relu'   # activation function for hidden layer\n",
        "l2 = 0.01             # regularization - how much we penalize large parameter values\n",
        "learning_rate = 0.001  # how big our steps are in gradient descent\n",
        "epochs = 50           # how many epochs to train for\n",
        "batch_size = 1000      # how many samples to use for each gradient descent update"
      ]
    },
    {
      "cell_type": "code",
      "execution_count": null,
      "metadata": {
        "id": "yljZXw2oaPBb"
      },
      "outputs": [],
      "source": [
        "# create a sequential model\n",
        "model6 = Sequential()\n",
        "\n",
        "# add the hidden layer\n",
        "model6.add(layers.Dense(input_dim=X_train.shape[1],\n",
        "                       units=hidden_units, \n",
        "                       activation=activation))\n",
        "\n",
        "# add the output layer\n",
        "model6.add(layers.Dense(input_dim=hidden_units,\n",
        "                       units=6,\n",
        "                       activation='softmax'))\n",
        "\n",
        "# define our loss function and optimizer\n",
        "model6.compile(loss = keras.losses.SparseCategoricalCrossentropy(),\n",
        "              # Adam is a kind of gradient descent\n",
        "              optimizer=optimizers.Adam(lr=learning_rate),\n",
        "              metrics= ['accuracy'])\n",
        "    "
      ]
    },
    {
      "cell_type": "code",
      "execution_count": null,
      "metadata": {
        "id": "6__Q_KZBaPBb"
      },
      "outputs": [],
      "source": [
        "# train the parameters\n",
        "#history6 = model6.fit(X_train, y_train, epochs=epochs)\n",
        "history6=model6.fit(X_train, y_train,epochs=epochs, batch_size=80,validation_data=(X_val,y_val))\n",
        "\n",
        "# evaluate accuracy\n",
        "train_acc = model6.evaluate(X_train, y_train)\n",
        "test_acc = model6.evaluate(X_val, y_val)\n",
        "print('Training accuracy: %s' % train_acc)\n",
        "print('Testing accuracy: %s' % test_acc)\n",
        "\n",
        "losses = history6.history['loss']\n",
        "plt.plot(range(len(losses)), losses, 'r')\n",
        "plt.title('Model loss')\n",
        "plt.ylabel('Loss')\n",
        "plt.xlabel('Epoch')\n",
        "plt.show()\n",
        "\n",
        "### RUN IT AGAIN! ###"
      ]
    },
    {
      "cell_type": "code",
      "execution_count": null,
      "metadata": {
        "id": "4o-FWiYHJrBN"
      },
      "outputs": [],
      "source": [
        "def plotting_ffn(history):\n",
        "  # Plotting the curves of training, validation and test sets losses and\n",
        "  # accuracy scores with number of epochs on the x-axis.\n",
        "    # Plot training & validation accuracy values\n",
        "  plt.plot(history.history['accuracy'])\n",
        "  plt.plot(history.history['val_accuracy'])\n",
        "  plt.title('Model accuracy')\n",
        "  plt.ylabel('Accuracy')\n",
        "  plt.xlabel('Epoch')\n",
        "  plt.legend(['Train', 'Test'], loc='upper left')\n",
        "  plt.show()\n",
        "\n",
        "    # Plot training & validation loss values\n",
        "  plt.plot(history.history['loss'])\n",
        "  plt.plot(history.history['val_loss'])\n",
        "  plt.title('Model loss')\n",
        "  plt.ylabel('Loss')\n",
        "  plt.xlabel('Epoch')\n",
        "  plt.legend(['Train', 'Test'], loc='upper left')\n",
        "  plt.show()\n",
        "  # Plotting the curves of training, validation and test sets losses and\n",
        "  # accuracy scores with number of epochs on the x-axis.  "
      ]
    },
    {
      "cell_type": "code",
      "execution_count": null,
      "metadata": {
        "id": "Eku2SSV4aPBb"
      },
      "outputs": [],
      "source": [
        "# Plot the training and validation curves\n",
        "plotting_ffn(history6)"
      ]
    },
    {
      "cell_type": "code",
      "execution_count": null,
      "metadata": {
        "id": "MgOzKFZMaPBb"
      },
      "outputs": [],
      "source": [
        "# Calculate the metrics for the model\n",
        "y_pred = model6.predict(X_val)\n",
        "y = y_pred.argmax(1)\n",
        "y_pred6 = le.inverse_transform(y)\n",
        "y_valout = le.inverse_transform(y_val)\n",
        "#y_final = np.array(y)\n",
        "print(y_pred6)\n",
        "print(y_valout)"
      ]
    },
    {
      "cell_type": "code",
      "execution_count": null,
      "metadata": {
        "id": "2HcVOeGOKIgs"
      },
      "outputs": [],
      "source": [
        "# Create function which calculates F1score, precision, recall and accuracy score for true and predicted labels.\n",
        "def metrics(y_pred, y_true):\n",
        "  #pass\n",
        "  precision = precision_score(y_true, y_pred, average='macro')\n",
        "  recall = recall_score(y_true, y_pred, average='macro')\n",
        "  f1score = f1_score(y_true, y_pred, average='macro')\n",
        "  accuracy = accuracy_score(y_true, y_pred)\n",
        "    \n",
        "  print(\"Precision:\", precision)\n",
        "  print(\"Recall:\", recall)\n",
        "  print(\"F1-score:\", f1score)\n",
        "  print(\"Accuracy:\", accuracy)\n",
        "    \n",
        "  return\n",
        "  # Takes input the predicted and true labels.\n",
        "  # Your code here for precision, recall, F1score, accuracy\n",
        "  # You can call this code to compute metrics for your models"
      ]
    },
    {
      "cell_type": "code",
      "execution_count": null,
      "metadata": {
        "id": "msh7I9Z4aPBb"
      },
      "outputs": [],
      "source": [
        "metrics(y_pred6, y_valout)"
      ]
    },
    {
      "cell_type": "markdown",
      "metadata": {
        "id": "zcDjo4ARJ1F_"
      },
      "source": [
        "# Exercise 7"
      ]
    },
    {
      "cell_type": "code",
      "execution_count": null,
      "metadata": {
        "id": "Pu7RGmKZaPBb"
      },
      "outputs": [],
      "source": [
        "import statsmodels.api as sm\n",
        "import numpy as np\n",
        "import pandas as pd"
      ]
    },
    {
      "cell_type": "code",
      "execution_count": null,
      "metadata": {
        "id": "n4EiMMN0aPBb"
      },
      "outputs": [],
      "source": [
        "df_mini = pd.read_csv('df_mini.csv',sep=',',engine='python',error_bad_lines='skip', quoting=csv.QUOTE_NONE)"
      ]
    },
    {
      "cell_type": "code",
      "execution_count": null,
      "metadata": {
        "id": "ZROMnhGOaPBb"
      },
      "outputs": [],
      "source": [
        "categorical_df = df_mini['Type']\n",
        "merged_df = df_mini.drop('Type', axis=1)\n",
        "clean_data=cleaning(merged_df)\n",
        "normalized_df1 = normalizer(clean_data)\n",
        "#print(normalized_df1)\n",
        "\n",
        "All_data=normalized_df1.copy()\n",
        "#A_data = noise_remover1(normalized_df)\n",
        "og=All_data.shape\n",
        "A_data = np.array(All_data)\n",
        "A_data = A_data.ravel()"
      ]
    },
    {
      "cell_type": "code",
      "execution_count": null,
      "metadata": {
        "id": "-DDFzYfsaPBb"
      },
      "outputs": [],
      "source": [
        "# Apply STL decomposition\n",
        "period = 360\n",
        "stl = sm.tsa.STL(A_data, period)\n",
        "res = stl.fit()\n",
        "trend = res.trend\n",
        "seasonal = res.seasonal\n",
        "residual = res.resid"
      ]
    },
    {
      "cell_type": "code",
      "execution_count": null,
      "metadata": {
        "id": "14fjePJQaPBc"
      },
      "outputs": [],
      "source": [
        "# Smooth residual using exponential moving average (EMA)\n",
        "residual = pd.DataFrame(residual, columns=['Value'])\n",
        "ema = residual.ewm(span=30).mean()\n",
        "\n",
        "# Calculate moving average of smoothed residual using rolling window\n",
        "sma2 = ema.rolling(window=50, center=True).mean()\n",
        "\n",
        "# Calculate anomaly scores based on difference between smoothed residual and moving averages\n",
        "sma1 = ema.rolling(window=10, center=True).mean()\n",
        "anomaly_scores = np.abs(sma1['Value'] - sma2['Value'])\n",
        "\n",
        "# Threshold the anomaly scores to identify anomalies\n",
        "threshold = anomaly_scores.mean() + 2 * anomaly_scores.std()"
      ]
    },
    {
      "cell_type": "code",
      "execution_count": null,
      "metadata": {
        "id": "IMMS8I5faPBc"
      },
      "outputs": [],
      "source": [
        "# Identify the indices of the anomalies\n",
        "anomaly_indices = np.where(anomaly_scores > threshold)[0]\n",
        "\n",
        "# Create a new column 'Anomaly' in normalized_df to store the anomaly output\n",
        "\n",
        "All_data['Anomaly'] = 0\n",
        "index= np.floor(anomaly_indices/360)\n",
        "index = np.int16(index)\n",
        "index = np.unique(index)\n",
        "print(index)\n",
        "All_data['Anomaly'].iloc[index] = 1"
      ]
    },
    {
      "cell_type": "code",
      "execution_count": null,
      "metadata": {
        "id": "-mtC2aoTaPBc"
      },
      "outputs": [],
      "source": [
        "anoms = categorical_df!='N'\n",
        "ans=categorical_df[anoms].index.values\n",
        "\n",
        "inter = np.intersect1d(index,ans)\n",
        "score = len(inter)/len(ans)\n",
        "print(score)"
      ]
    },
    {
      "cell_type": "markdown",
      "metadata": {
        "id": "kJdeRSz4aPBc"
      },
      "source": [
        "# Exercise 8"
      ]
    },
    {
      "cell_type": "markdown",
      "metadata": {
        "id": "px4dzmfBaPBc"
      },
      "source": [
        "Model based on https://ieeexplore.ieee.org/abstract/document/8952723\n",
        "and\n",
        "https://www.kaggle.com/code/gregoiredc/arrhythmia-on-ecg-classification-using-cnn"
      ]
    },
    {
      "cell_type": "code",
      "execution_count": null,
      "metadata": {
        "id": "xUbo19Z0J2t9"
      },
      "outputs": [],
      "source": [
        "from keras.layers import Dense, Convolution1D, MaxPool1D, Flatten, Dropout\n",
        "from keras.layers import Input\n",
        "from keras.models import Model\n",
        "from tensorflow.keras.layers import BatchNormalization\n",
        "from keras.utils.np_utils import to_categorical\n",
        "import keras\n",
        "from keras.callbacks import EarlyStopping, ModelCheckpoint"
      ]
    },
    {
      "cell_type": "code",
      "execution_count": null,
      "metadata": {
        "id": "NB7wcNNiaPBc"
      },
      "outputs": [],
      "source": [
        "X_train1 = X_train.reshape(len(X_train), X_train.shape[1],1)\n",
        "X_val1 = X_val.reshape(len(X_val), X_val.shape[1],1)\n",
        "y_train1=to_categorical(y_train)\n",
        "y_val1=to_categorical(y_val)"
      ]
    },
    {
      "cell_type": "code",
      "execution_count": null,
      "metadata": {
        "id": "XDIf29fGaPBc"
      },
      "outputs": [],
      "source": [
        "def network(X_train,y_train,X_test,y_test):\n",
        "\n",
        "    im_shape=(X_train.shape[1],1)\n",
        "    inputs_cnn=Input(shape=(im_shape), name='inputs_cnn')\n",
        "    conv1_1=Convolution1D(64, (6), activation='relu', input_shape=im_shape)(inputs_cnn)\n",
        "    conv1_1=BatchNormalization()(conv1_1)\n",
        "    pool1=MaxPool1D(pool_size=(3), strides=(2), padding=\"same\")(conv1_1)\n",
        "    conv2_1=Convolution1D(64, (3), activation='relu', input_shape=im_shape)(pool1)\n",
        "    conv2_1=BatchNormalization()(conv2_1)\n",
        "    pool2=MaxPool1D(pool_size=(2), strides=(2), padding=\"same\")(conv2_1)\n",
        "    conv3_1=Convolution1D(64, (3), activation='relu', input_shape=im_shape)(pool2)\n",
        "    conv3_1=BatchNormalization()(conv3_1)\n",
        "    pool3=MaxPool1D(pool_size=(2), strides=(2), padding=\"same\")(conv3_1)\n",
        "    flatten=Flatten()(pool3)\n",
        "    dense_end1 = Dense(64, activation='relu')(flatten)\n",
        "    dense_end2 = Dense(32, activation='relu')(dense_end1)\n",
        "    main_output = Dense(6, activation='softmax', name='main_output')(dense_end2)\n",
        "    \n",
        "    \n",
        "    model = Model(inputs= inputs_cnn, outputs=main_output)\n",
        "    model.compile(optimizer='adam', loss='categorical_crossentropy',metrics = ['accuracy'])\n",
        "    \n",
        "    \n",
        "    callbacks = [EarlyStopping(monitor='val_loss', patience=8),\n",
        "             ModelCheckpoint(filepath='best_model.h5', monitor='val_loss', save_best_only=True)]\n",
        "\n",
        "    history=model.fit(X_train, y_train,epochs=25,callbacks=callbacks, batch_size=80,validation_data=(X_test,y_test))\n",
        "    model.load_weights('best_model.h5')\n",
        "    return(model,history)"
      ]
    },
    {
      "cell_type": "code",
      "execution_count": null,
      "metadata": {
        "id": "frMDw0bnaPBc"
      },
      "outputs": [],
      "source": [
        "model8,history8=network(X_train1,y_train1,X_val1,y_val1)"
      ]
    },
    {
      "cell_type": "code",
      "execution_count": null,
      "metadata": {
        "id": "-63710kWaPBc"
      },
      "outputs": [],
      "source": [
        "#evaluate_model(history8,X_val1,y_val1,model8)\n",
        "y_pred8=model8.predict(X_val1)\n",
        "y_pred8 = y_pred8.argmax(1)\n",
        "y_pred8 = le.inverse_transform(y_pred8)"
      ]
    },
    {
      "cell_type": "code",
      "execution_count": null,
      "metadata": {
        "id": "kUwZiw7JaPBc"
      },
      "outputs": [],
      "source": [
        "plotting_ffn(history8)"
      ]
    },
    {
      "cell_type": "markdown",
      "metadata": {
        "id": "W33VTdtZaPBc"
      },
      "source": [
        "# Exercise 9"
      ]
    },
    {
      "cell_type": "code",
      "execution_count": null,
      "metadata": {
        "id": "vi3X1_NsaPBc"
      },
      "outputs": [],
      "source": [
        "plotting_ffn(history6)\n",
        "metrics(y_pred6, y_valout)\n",
        "plotting_ffn(history8)\n",
        "metrics(y_pred8, y_valout)"
      ]
    },
    {
      "cell_type": "code",
      "execution_count": null,
      "metadata": {
        "id": "6m3HAEXcJaGA"
      },
      "outputs": [],
      "source": [
        "def plot_final():\n",
        "  # lot examples or time-series snippets of\n",
        "  # mis-classified arrhythmia (False positives) and also false negatives.\n"
      ]
    },
    {
      "cell_type": "markdown",
      "metadata": {
        "id": "hSoJZo-1JYSD"
      },
      "source": [
        "# Exercise 10"
      ]
    },
    {
      "cell_type": "code",
      "execution_count": null,
      "metadata": {
        "id": "ZT5pHJYeaPBc"
      },
      "outputs": [],
      "source": [
        "# Find the indices of false positives and false negatives for Class R\n",
        "false_positives = np.where((y_pred8 == 'R') & (y_valout != 'R'))\n",
        "print('False Positive Quantity:',len(false_positives[0]))\n",
        "false_negatives = np.where((y_pred8 != 'R') & (y_valout == 'R'))\n",
        "print('False Negative Quantity:',len(false_negatives[0]))\n",
        "\n",
        "\n",
        "for i in range(1):\n",
        "    plt.figure(figsize=(8, 6))\n",
        "    plt.title('False Class R Positive')\n",
        "    plt.xlabel('Time')\n",
        "    plotX = X_val[false_positives[0][i]]\n",
        "    plt.plot(plotX)\n",
        "    plt.show()\n",
        "\n",
        "for i in range(1):\n",
        "    plt.figure(figsize=(8, 6))\n",
        "    plt.title('False Class R Negative')\n",
        "    plt.xlabel('Time')\n",
        "    plotX = X_val[false_negatives[0][i]]\n",
        "    plt.plot(plotX)\n",
        "    plt.show()\n"
      ]
    },
    {
      "cell_type": "code",
      "execution_count": null,
      "metadata": {
        "id": "bkGM_fqbaPBc"
      },
      "outputs": [],
      "source": [
        "df_kag = pd.read_csv('kaggle.csv',sep=',',engine='python',error_bad_lines='skip', quoting=csv.QUOTE_NONE)"
      ]
    },
    {
      "cell_type": "code",
      "execution_count": null,
      "metadata": {
        "id": "XLEGA7jEaPBc"
      },
      "outputs": [],
      "source": [
        "id =df_kag['Id']\n",
        "X_final = df_kag.drop('Id', axis=1)\n",
        "clean_X = cleaning(X_final)\n",
        "normalized_X = normalizer(clean_X)\n",
        "#normalized_X[np.isnan(normalized_X)] = 0\n",
        "normalized_X = normalized_X.to_numpy()\n",
        "noise_X = noise_remover1(normalized_X)\n",
        "noise_X = noise_X.reshape(len(noise_X), noise_X.shape[1],1) #only for model 8\n",
        "\n",
        "y_predict = model8.predict(noise_X)\n",
        "#print(y_predict)\n",
        "#y_predict = np.array(y_predict).astype(int)\n",
        "y = y_predict.argmax(1)\n",
        "#print(y)\n",
        "y_final = le.inverse_transform(y)\n",
        "#y_final = np.array(y)\n",
        "print(y_final)"
      ]
    },
    {
      "cell_type": "code",
      "execution_count": null,
      "metadata": {
        "id": "CUJymDrxaPBc"
      },
      "outputs": [],
      "source": [
        "excel = pd.DataFrame(index=None)\n",
        "filepath = Path('C:/UW_PMP_Masters/EE__P_594_A_Machine_Learning/MiniProject2_HeartPulse/kaggle_M8unbalanced.csv')  \n",
        "excel['Id']=id\n",
        "excel['heartbeat_type']=y_final\n",
        "#print(excel)\n",
        "excel.to_csv(filepath, index=False) "
      ]
    }
  ],
  "metadata": {
    "colab": {
      "provenance": []
    },
    "kernelspec": {
      "display_name": "myenv",
      "language": "python",
      "name": "python3"
    },
    "language_info": {
      "codemirror_mode": {
        "name": "ipython",
        "version": 3
      },
      "file_extension": ".py",
      "mimetype": "text/x-python",
      "name": "python",
      "nbconvert_exporter": "python",
      "pygments_lexer": "ipython3",
      "version": "3.8.5"
    },
    "vscode": {
      "interpreter": {
        "hash": "908ffd3807f6d5fd7baac17f14e67331d42789b00cddefd6224f6c2c17b98e76"
      }
    }
  },
  "nbformat": 4,
  "nbformat_minor": 0
}